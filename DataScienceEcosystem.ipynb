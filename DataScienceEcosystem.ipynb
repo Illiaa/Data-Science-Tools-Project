{
 "cells": [
  {
   "cell_type": "markdown",
   "id": "7c3c9610-2d16-46a8-b9c7-95fb88021ebf",
   "metadata": {},
   "source": [
    "# Data Science Tools and Ecosystem"
   ]
  },
  {
   "cell_type": "markdown",
   "id": "1949f7a5-c0a5-4f15-8018-b6a99ae0dd5e",
   "metadata": {},
   "source": [
    "## This notebook serves as a summary of data science tools and ecosystems"
   ]
  },
  {
   "cell_type": "markdown",
   "id": "f1d8bd60-993f-48f4-a083-425ae960ada8",
   "metadata": {},
   "source": [
    "__Objectives__\n",
    "- List popular data science languages\n",
    "- List popular libraries used in data science\n",
    "- list tools used for data science\n",
    "- Create examples of arithmetic equations using python"
   ]
  },
  {
   "cell_type": "markdown",
   "id": "f021abfd-2be5-4e11-bea7-1f049f5ae71a",
   "metadata": {},
   "source": [
    "### Popular Data Science languages include, but are not limited to: \n",
    " 1. Python\n",
    " 2. R\n",
    " 3. Julia\n",
    " 4. Scala\n",
    " 5. SQL"
   ]
  },
  {
   "cell_type": "markdown",
   "id": "1c74ec2f-b1be-4ecd-963c-0396ef2abdf6",
   "metadata": {},
   "source": [
    "### Popular Data Science Libraries include, but are not limited to:\n",
    " 1. NumPy\n",
    " 2. Pandas\n",
    " 3. TensorFlow\n",
    " 4. SciPy\n",
    " 5. Keras"
   ]
  },
  {
   "cell_type": "markdown",
   "id": "790d474f-7c5e-419e-9c48-a60917076a2d",
   "metadata": {},
   "source": [
    "| Data Science Tools|\n",
    "|-------|\n",
    "|Jupyter Notebook|\n",
    "| Apache Spark|\n",
    "|Apache Hadoop|"
   ]
  },
  {
   "cell_type": "markdown",
   "id": "3c853504-e849-45c5-8d80-6a4bec1bd0de",
   "metadata": {},
   "source": [
    "### The following is an example of evaluating arithmetic expressions in python:"
   ]
  },
  {
   "cell_type": "code",
   "execution_count": 14,
   "id": "55ecfd20-bb77-4879-bbec-b8f474f8db05",
   "metadata": {
    "tags": []
   },
   "outputs": [
    {
     "name": "stdout",
     "output_type": "stream",
     "text": [
      "This is a simple example of multiplying then adding integers\n"
     ]
    },
    {
     "data": {
      "text/plain": [
       "17"
      ]
     },
     "execution_count": 14,
     "metadata": {},
     "output_type": "execute_result"
    }
   ],
   "source": [
    "print(\"This is a simple example of multiplying then adding integers\")\n",
    "(3*4)+5"
   ]
  },
  {
   "cell_type": "code",
   "execution_count": 15,
   "id": "a57a997b-66ef-46f5-8314-b80bf8d979fc",
   "metadata": {
    "tags": []
   },
   "outputs": [
    {
     "name": "stdout",
     "output_type": "stream",
     "text": [
      "This next equation will convert 200 minutes into hours by divding by 60\n"
     ]
    },
    {
     "data": {
      "text/plain": [
       "3.3333333333333335"
      ]
     },
     "execution_count": 15,
     "metadata": {},
     "output_type": "execute_result"
    }
   ],
   "source": [
    "print(\"This next equation will convert 200 minutes into hours by divding by 60\")\n",
    "200/60 "
   ]
  },
  {
   "cell_type": "markdown",
   "id": "985818a2-036c-4775-8b82-de194e8d9922",
   "metadata": {
    "tags": []
   },
   "source": [
    "## Author.\n",
    "Megan McCullough"
   ]
  },
  {
   "cell_type": "code",
   "execution_count": null,
   "id": "7254655d-35b9-43b9-a316-4947d838ce2c",
   "metadata": {},
   "outputs": [],
   "source": []
  }
 ],
 "metadata": {
  "kernelspec": {
   "display_name": "Python",
   "language": "python",
   "name": "conda-env-python-py"
  },
  "language_info": {
   "codemirror_mode": {
    "name": "ipython",
    "version": 3
   },
   "file_extension": ".py",
   "mimetype": "text/x-python",
   "name": "python",
   "nbconvert_exporter": "python",
   "pygments_lexer": "ipython3",
   "version": "3.7.12"
  }
 },
 "nbformat": 4,
 "nbformat_minor": 5
}
