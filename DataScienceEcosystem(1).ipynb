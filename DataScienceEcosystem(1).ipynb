{
 "cells": [
  {
   "cell_type": "code",
   "execution_count": null,
   "id": "a2bb4467-a68a-49f8-a214-770203052d31",
   "metadata": {},
   "outputs": [],
   "source": []
  },
  {
   "cell_type": "markdown",
   "id": "5520f8e4-c6e3-41f9-a082-1dfa74c42890",
   "metadata": {},
   "source": [
    "#### Add your code below following the instructions given in the course"
   ]
  },
  {
   "cell_type": "markdown",
   "id": "b5169bbc-9e20-48f5-8c59-bf17e8c58562",
   "metadata": {},
   "source": [
    "# Data Science Tools and Ecosystem"
   ]
  },
  {
   "cell_type": "markdown",
   "id": "9377d94b-19c6-4dd6-8b2a-fa4b4f229d34",
   "metadata": {},
   "source": [
    "## This notebook serves as a summary of data science tools and ecosystems"
   ]
  },
  {
   "cell_type": "markdown",
   "id": "909e7a7d-3f32-4897-9cab-49670e108003",
   "metadata": {},
   "source": [
    "__Objectives__\n",
    "- List popular data science languages\n",
    "- List popular libraries used in data science\n",
    "- list tools used for data science\n",
    "- Create examples of arithmetic equations using python"
   ]
  },
  {
   "cell_type": "markdown",
   "id": "c75d2286-bb2c-41ec-b8b6-f71435308177",
   "metadata": {},
   "source": [
    "### Popular Data Science languages include, but are not limited to: \n",
    " 1. Python\n",
    " 2. R\n",
    " 3. Julia\n",
    " 4. Scala\n",
    " 5. SQL"
   ]
  },
  {
   "cell_type": "markdown",
   "id": "f6e76d54-f617-4ec2-98ae-03b3b05a7e7a",
   "metadata": {},
   "source": [
    "### Popular Data Science Libraries include, but are not limited to:\n",
    " 1. NumPy\n",
    " 2. Pandas\n",
    " 3. TensorFlow\n",
    " 4. SciPy\n",
    " 5. Keras"
   ]
  },
  {
   "cell_type": "markdown",
   "id": "6e54b878-30fc-48de-b18b-4a6f118755b6",
   "metadata": {},
   "source": [
    "| Data Science Tools|\n",
    "|-------|\n",
    "|Jupyter Notebook|\n",
    "| Apache Spark|\n",
    "|Apache Hadoop|"
   ]
  },
  {
   "cell_type": "markdown",
   "id": "4790dbf1-bc4d-4fe9-8303-6ef21c3c8653",
   "metadata": {},
   "source": [
    "### The following is an example of evaluating arithmetic expressions in python:"
   ]
  },
  {
   "cell_type": "code",
   "execution_count": 14,
   "id": "55ecfd20-bb77-4879-bbec-b8f474f8db05",
   "metadata": {
    "tags": []
   },
   "outputs": [
    {
     "name": "stdout",
     "output_type": "stream",
     "text": [
      "This is a simple example of multiplying then adding integers\n"
     ]
    },
    {
     "data": {
      "text/plain": [
       "17"
      ]
     },
     "execution_count": 14,
     "metadata": {},
     "output_type": "execute_result"
    }
   ],
   "source": [
    "print(\"This is a simple example of multiplying then adding integers\")\n",
    "(3*4)+5"
   ]
  },
  {
   "cell_type": "code",
   "execution_count": 15,
   "id": "a57a997b-66ef-46f5-8314-b80bf8d979fc",
   "metadata": {
    "tags": []
   },
   "outputs": [
    {
     "name": "stdout",
     "output_type": "stream",
     "text": [
      "This next equation will convert 200 minutes into hours by divding by 60\n"
     ]
    },
    {
     "data": {
      "text/plain": [
       "3.3333333333333335"
      ]
     },
     "execution_count": 15,
     "metadata": {},
     "output_type": "execute_result"
    }
   ],
   "source": [
    "print(\"This next equation will convert 200 minutes into hours by divding by 60\")\n",
    "200/60 "
   ]
  },
  {
   "cell_type": "markdown",
   "id": "2c548d08-18bc-4b4e-bf50-1cce8a530b87",
   "metadata": {
    "tags": []
   },
   "source": [
    "## Author.\n",
    "Megan McCullough"
   ]
  },
  {
   "cell_type": "code",
   "execution_count": null,
   "id": "7254655d-35b9-43b9-a316-4947d838ce2c",
   "metadata": {},
   "outputs": [],
   "source": []
  }
 ],
 "metadata": {
  "kernelspec": {
   "display_name": "Python",
   "language": "python",
   "name": "conda-env-python-py"
  },
  "language_info": {
   "codemirror_mode": {
    "name": "ipython",
    "version": 3
   },
   "file_extension": ".py",
   "mimetype": "text/x-python",
   "name": "python",
   "nbconvert_exporter": "python",
   "pygments_lexer": "ipython3",
   "version": "3.7.12"
  }
 },
 "nbformat": 4,
 "nbformat_minor": 5
}
